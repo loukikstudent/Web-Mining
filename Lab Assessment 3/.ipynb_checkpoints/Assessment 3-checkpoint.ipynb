{
 "cells": [
  {
   "cell_type": "code",
   "execution_count": 1,
   "metadata": {},
   "outputs": [],
   "source": [
    "from nltk.corpus import stopwords\n",
    "from nltk.tokenize import word_tokenize\n",
    "import math\n",
    "\n",
    "\n",
    "def cleaner(filename):    \n",
    "    filevariablename=open(filename).read()\n",
    "    stop_words = set(stopwords.words('english'))\n",
    "    word_tokens = word_tokenize(filevariablename)\n",
    "    filtered_sent = [w for w in word_tokens if not w in stop_words]\n",
    "    filtered_sentence = []\n",
    "    for w in word_tokens:\n",
    "         if w not in stop_words:\n",
    "              filtered_sentence.append(w)\n",
    "    #print(word_tokens)\n",
    "    #\n",
    "    #print(\"stop words removed!\")\n",
    "    punctuations = list('''!()-[]{};:'\"\\,<>./?@#$%^&*_~''')\n",
    "    temp=[]\n",
    "    for char in filtered_sentence:\n",
    "        if char not in punctuations:\n",
    "            temp.append(char)\n",
    "    filtered_sentence=temp\n",
    "    #print(filtered_sentence)\n",
    "    return filtered_sentence\n",
    "\n",
    "def distinct(doc,li):\n",
    "    for items in doc:\n",
    "        if items not in li:\n",
    "            li.append(items)"
   ]
  },
  {
   "cell_type": "code",
   "execution_count": 2,
   "metadata": {},
   "outputs": [],
   "source": [
    "doc1=cleaner(\"Doc 1.txt\")\n",
    "doc2=cleaner(\"Doc 2.txt\")\n",
    "doc3=cleaner(\"Doc 3.txt\")\n",
    "doc4=cleaner(\"Doc 4.txt\")\n",
    "doc5=cleaner(\"Doc 5.txt\")\n",
    "doc6=cleaner(\"Doc 6.txt\")\n",
    "doc7=cleaner(\"Doc 7.txt\")\n",
    "doc8=cleaner(\"Doc 8.txt\")\n",
    "doc9=cleaner(\"Doc 9.txt\")\n",
    "doc10=cleaner(\"Doc 10.txt\")"
   ]
  },
  {
   "cell_type": "code",
   "execution_count": 3,
   "metadata": {},
   "outputs": [],
   "source": [
    "dislist=[]\n",
    "finaldic={}\n",
    "posdic={}\n"
   ]
  },
  {
   "cell_type": "code",
   "execution_count": 4,
   "metadata": {},
   "outputs": [],
   "source": [
    "def discounter(docnamev,dicvarname):\n",
    "    temp={}\n",
    "    temp2={}\n",
    "    distinct(docnamev,dislist)\n",
    "    for item in dislist:\n",
    "        c=docnamev.count(item)\n",
    "        temp[item]=c\n",
    "        temp3=[]\n",
    "        for stuff in range(len(docnamev)):\n",
    "            if item==docnamev[stuff]:\n",
    "                temp3.append(stuff)\n",
    "        temp2[item]=temp3   \n",
    "    finaldic[dicvarname]=temp\n",
    "    posdic[dicvarname]=temp2\n",
    "        "
   ]
  },
  {
   "cell_type": "code",
   "execution_count": 5,
   "metadata": {},
   "outputs": [],
   "source": [
    "discounter(doc1,\"Document 1\")\n",
    "discounter(doc2,\"Document 2\")\n",
    "discounter(doc3,\"Document 3\")\n",
    "discounter(doc4,\"Document 4\")\n",
    "discounter(doc5,\"Document 5\")\n",
    "discounter(doc6,\"Document 6\")\n",
    "discounter(doc7,\"Document 7\")\n",
    "discounter(doc8,\"Document 8\")\n",
    "discounter(doc9,\"Document 9\")\n",
    "discounter(doc10,\"Document 10\")\n",
    "#run it twice because updation distinct list\n",
    "discounter(doc1,\"Document 1\")\n",
    "discounter(doc2,\"Document 2\")\n",
    "discounter(doc3,\"Document 3\")\n",
    "discounter(doc4,\"Document 4\")\n",
    "discounter(doc5,\"Document 5\")\n",
    "discounter(doc6,\"Document 6\")\n",
    "discounter(doc7,\"Document 7\")\n",
    "discounter(doc8,\"Document 8\")\n",
    "discounter(doc9,\"Document 9\")\n",
    "discounter(doc10,\"Document 10\")"
   ]
  },
  {
   "cell_type": "code",
   "execution_count": 6,
   "metadata": {},
   "outputs": [],
   "source": [
    "def printable():\n",
    "    print(\"Documents\",end='')\n",
    "    for item in dislist:\n",
    "        print(\"\\t\"+item,end='')\n",
    "    for item in finaldic:\n",
    "        print(item,end='\\t')\n",
    "        for stuff in finaldic[item]:\n",
    "            print(finaldic[item][stuff],end=\"\\t\")\n",
    "        print(\"\\n\")"
   ]
  },
  {
   "cell_type": "code",
   "execution_count": 7,
   "metadata": {},
   "outputs": [],
   "source": [
    "#suming up the number of occurance of each words\n",
    "diclist={}#dictionary of sum of each word occurance in all the documents\n",
    "for item in dislist:\n",
    "    t=0\n",
    "    for stuff in finaldic:\n",
    "        t+=finaldic[stuff][item]\n",
    "    diclist[item]=t\n",
    "#here if you print diclist you get the total occurance of all the words that have appeared in every document used."
   ]
  },
  {
   "cell_type": "code",
   "execution_count": 8,
   "metadata": {},
   "outputs": [],
   "source": [
    "def maxword(a):#this finds out if the word exists and if it does then it finds where it occurs maximum and also prints out it's positions\n",
    "    maxc=0\n",
    "    maxdoc=0\n",
    "    if a in dislist:\n",
    "        for item in finaldic:\n",
    "            if ((finaldic[item][a])> maxc):\n",
    "                maxc=finaldic[item][a]\n",
    "                maxdoc=item\n",
    "        print (\"The word {0} has occured the most in {1}, {2} number of times, in positions:\".format(a,maxdoc,maxc))\n",
    "        print(posdic[maxdoc][a])\n",
    "    else:\n",
    "        print (\"This word does not appear in the documents\")"
   ]
  },
  {
   "cell_type": "code",
   "execution_count": 37,
   "metadata": {},
   "outputs": [],
   "source": [
    "def wt_tff(a):\n",
    "    if a == 0:\n",
    "        return float(0)\n",
    "    else:\n",
    "        return (1+(math.log10(a)))\n",
    "    "
   ]
  },
  {
   "cell_type": "code",
   "execution_count": 38,
   "metadata": {},
   "outputs": [],
   "source": [
    "#weight of term frequency\n",
    "wt_tf=finaldic\n",
    "for item in wt_tf:\n",
    "    for stuff in wt_tf[item]:\n",
    "        wt_tf[item][stuff]=wt_tff(wt_tf[item][stuff])"
   ]
  },
  {
   "cell_type": "code",
   "execution_count": 39,
   "metadata": {},
   "outputs": [],
   "source": [
    "n=len(finaldic)"
   ]
  },
  {
   "cell_type": "code",
   "execution_count": 40,
   "metadata": {},
   "outputs": [],
   "source": [
    "df={}\n",
    "for words in dislist:\n",
    "    count=0\n",
    "    for item in finaldic:\n",
    "        if finaldic[item][words] !=0:\n",
    "            count+=1\n",
    "    df[words]=count\n",
    "        "
   ]
  },
  {
   "cell_type": "code",
   "execution_count": 41,
   "metadata": {},
   "outputs": [],
   "source": [
    "idf={}\n",
    "for words in dislist:\n",
    "    temp=math.log10((n/df[words]))\n",
    "    idf[words]=temp\n",
    "    \n"
   ]
  },
  {
   "cell_type": "code",
   "execution_count": 42,
   "metadata": {},
   "outputs": [],
   "source": [
    "Wt=finaldic"
   ]
  },
  {
   "cell_type": "code",
   "execution_count": 46,
   "metadata": {},
   "outputs": [],
   "source": [
    "for item in finaldic:\n",
    "    for stuff in finaldic[item]:\n",
    "        #print(type(wt_tf[item][stuff]))\n",
    "        #print(type(idf[stuff]))\n",
    "        Wt[item][stuff]=(wt_tf[item][stuff]*idf[stuff])"
   ]
  },
  {
   "cell_type": "code",
   "execution_count": 52,
   "metadata": {},
   "outputs": [],
   "source": [
    "def lencal(doca):\n",
    "    tot1=0\n",
    "    for item in doca:\n",
    "        tot1+=((doca[item])*(doca[item]))\n",
    "    return math.sqrt(tot1)\n",
    "dlen={}\n",
    "for items in Wt:\n",
    "    dlen[items]=lencal(Wt[items])\n",
    "        "
   ]
  },
  {
   "cell_type": "code",
   "execution_count": 53,
   "metadata": {},
   "outputs": [],
   "source": [
    "def cos(doca,docb):\n",
    "    tot1=0\n",
    "    for words in dislist:\n",
    "        tot1+=((Wt[doca][words])*(Wt[docb][words]))\n",
    "    tempd=((dlen[doca])*(dlen[docb]))\n",
    "    return (tot1/tempd)\n",
    "\n",
    "    \n",
    "        "
   ]
  },
  {
   "cell_type": "code",
   "execution_count": 64,
   "metadata": {},
   "outputs": [],
   "source": [
    "cosim={}\n",
    "amax=0\n",
    "bmax=0\n",
    "max=0\n",
    "for item in Wt:\n",
    "    cosim[item]={}\n",
    "    for stuff in Wt:\n",
    "        if stuff!=item:\n",
    "            temp=cos(item,stuff)\n",
    "            cosim[item][stuff]=temp\n",
    "            if temp>max:\n",
    "                max=temp\n",
    "                amax=item\n",
    "                bmax=stuff\n",
    "        "
   ]
  },
  {
   "cell_type": "code",
   "execution_count": 66,
   "metadata": {},
   "outputs": [
    {
     "name": "stdout",
     "output_type": "stream",
     "text": [
      "Document 4\n",
      "Document 8\n"
     ]
    },
    {
     "data": {
      "text/plain": [
       "0.12962763179689774"
      ]
     },
     "execution_count": 66,
     "metadata": {},
     "output_type": "execute_result"
    }
   ],
   "source": [
    "print(amax)\n",
    "print(bmax)\n",
    "max"
   ]
  },
  {
   "cell_type": "code",
   "execution_count": null,
   "metadata": {},
   "outputs": [],
   "source": [
    "print(\"Enter Query\")"
   ]
  }
 ],
 "metadata": {
  "kernelspec": {
   "display_name": "Python 3",
   "language": "python",
   "name": "python3"
  },
  "language_info": {
   "codemirror_mode": {
    "name": "ipython",
    "version": 3
   },
   "file_extension": ".py",
   "mimetype": "text/x-python",
   "name": "python",
   "nbconvert_exporter": "python",
   "pygments_lexer": "ipython3",
   "version": "3.7.3"
  }
 },
 "nbformat": 4,
 "nbformat_minor": 2
}
